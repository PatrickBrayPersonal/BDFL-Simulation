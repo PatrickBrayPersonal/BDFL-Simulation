{
 "cells": [
  {
   "cell_type": "code",
   "execution_count": 4,
   "id": "12ebef26",
   "metadata": {},
   "outputs": [],
   "source": [
    "import warnings\n",
    "warnings.filterwarnings('ignore')\n",
    "import pandas as pd\n",
    "from IPython.display import Image\n",
    "from src.API_Wrapper import API\n",
    "from src.Reporter import Reporter\n",
    "from src.Data_Generator import Data_Generator\n",
    "from src.Simulator import Simulator\n",
    "# Creds\n",
    "LEAGUE_ID = '65522'\n",
    "USER_AGENT = 'brayps_user_agent'\n",
    "# Current week of the season\n",
    "week = 1\n",
    "# Number of seasons to run\n",
    "n = 100\n",
    "# Instatiate Classes\n",
    "api = API(leagueid=LEAGUE_ID, user_agent=USER_AGENT)\n",
    "rep = Reporter(api, week)\n",
    "dg = Data_Generator(week, api, rep, n)\n",
    "sim = Simulator(week, api, rep, dg, n)"
   ]
  },
  {
   "cell_type": "code",
   "execution_count": 6,
   "id": "a8988d08",
   "metadata": {},
   "outputs": [
    {
     "data": {
      "text/html": [
       "<div>\n",
       "<style scoped>\n",
       "    .dataframe tbody tr th:only-of-type {\n",
       "        vertical-align: middle;\n",
       "    }\n",
       "\n",
       "    .dataframe tbody tr th {\n",
       "        vertical-align: top;\n",
       "    }\n",
       "\n",
       "    .dataframe thead th {\n",
       "        text-align: right;\n",
       "    }\n",
       "</style>\n",
       "<table border=\"1\" class=\"dataframe\">\n",
       "  <thead>\n",
       "    <tr style=\"text-align: right;\">\n",
       "      <th></th>\n",
       "      <th>matchup</th>\n",
       "      <th>winner</th>\n",
       "      <th>win_probability</th>\n",
       "    </tr>\n",
       "  </thead>\n",
       "  <tbody>\n",
       "    <tr>\n",
       "      <th>0</th>\n",
       "      <td>D.K. Mudbone vs. Jeff Janis Fan Club</td>\n",
       "      <td>Jeff Janis Fan Club</td>\n",
       "      <td>0.54</td>\n",
       "    </tr>\n",
       "    <tr>\n",
       "      <th>1</th>\n",
       "      <td>Do Your Job vs. Free hernandez</td>\n",
       "      <td>Do Your Job</td>\n",
       "      <td>0.78</td>\n",
       "    </tr>\n",
       "    <tr>\n",
       "      <th>2</th>\n",
       "      <td>Folk the King vs. The Youth Academy</td>\n",
       "      <td>The Youth Academy</td>\n",
       "      <td>0.94</td>\n",
       "    </tr>\n",
       "    <tr>\n",
       "      <th>3</th>\n",
       "      <td>Marcus Peters' Peter Peckers vs. Half Chubb</td>\n",
       "      <td>Marcus Peters' Peter Peckers</td>\n",
       "      <td>0.73</td>\n",
       "    </tr>\n",
       "    <tr>\n",
       "      <th>4</th>\n",
       "      <td>Rodger Goodella vs. you know why i'm here</td>\n",
       "      <td>you know why i'm here</td>\n",
       "      <td>0.74</td>\n",
       "    </tr>\n",
       "    <tr>\n",
       "      <th>5</th>\n",
       "      <td>WhatDaTruck vs. Suck My Ditka</td>\n",
       "      <td>WhatDaTruck</td>\n",
       "      <td>0.52</td>\n",
       "    </tr>\n",
       "  </tbody>\n",
       "</table>\n",
       "</div>"
      ],
      "text/plain": [
       "                                       matchup                        winner  \\\n",
       "0         D.K. Mudbone vs. Jeff Janis Fan Club           Jeff Janis Fan Club   \n",
       "1               Do Your Job vs. Free hernandez                   Do Your Job   \n",
       "2          Folk the King vs. The Youth Academy             The Youth Academy   \n",
       "3  Marcus Peters' Peter Peckers vs. Half Chubb  Marcus Peters' Peter Peckers   \n",
       "4    Rodger Goodella vs. you know why i'm here         you know why i'm here   \n",
       "5                WhatDaTruck vs. Suck My Ditka                   WhatDaTruck   \n",
       "\n",
       "   win_probability  \n",
       "0             0.54  \n",
       "1             0.78  \n",
       "2             0.94  \n",
       "3             0.73  \n",
       "4             0.74  \n",
       "5             0.52  "
      ]
     },
     "execution_count": 6,
     "metadata": {},
     "output_type": "execute_result"
    }
   ],
   "source": [
    "sim.week_outcome(10)"
   ]
  }
 ],
 "metadata": {
  "kernelspec": {
   "display_name": "Python 3",
   "language": "python",
   "name": "python3"
  },
  "language_info": {
   "codemirror_mode": {
    "name": "ipython",
    "version": 3
   },
   "file_extension": ".py",
   "mimetype": "text/x-python",
   "name": "python",
   "nbconvert_exporter": "python",
   "pygments_lexer": "ipython3",
   "version": "3.8.10"
  }
 },
 "nbformat": 4,
 "nbformat_minor": 5
}
